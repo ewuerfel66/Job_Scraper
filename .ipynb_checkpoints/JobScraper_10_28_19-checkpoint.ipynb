{
 "cells": [
  {
   "cell_type": "code",
   "execution_count": 1,
   "metadata": {},
   "outputs": [],
   "source": [
    "import matplotlib.pyplot as plt\n",
    "import pandas as pd\n",
    "import numpy as np\n",
    "\n",
    "import re\n",
    "import os\n",
    "import time\n",
    "\n",
    "from sklearn.feature_extraction.text import CountVectorizer, TfidfVectorizer\n",
    "from sklearn.neighbors import NearestNeighbors\n",
    "import spacy\n",
    "\n",
    "from bs4 import BeautifulSoup\n",
    "from urllib.request import urlopen, Request\n",
    "\n",
    "from selenium import webdriver\n",
    "from selenium.webdriver.common.by import By\n",
    "from selenium.webdriver.support.ui import WebDriverWait\n",
    "from selenium.webdriver.support import expected_conditions as EC\n",
    "from selenium.common.exceptions import TimeoutException, NoSuchElementException\n",
    "from selenium.webdriver.common.keys import Keys"
   ]
  },
  {
   "cell_type": "code",
   "execution_count": 2,
   "metadata": {},
   "outputs": [],
   "source": [
    "# Functions\n",
    "def clear_auto(element):\n",
    "    auto_input = str(element.get_attribute(\"value\"))\n",
    "    auto_length = len(auto_input)\n",
    "    # Delete everything\n",
    "    for i in range(auto_length):\n",
    "        element.send_keys(Keys.BACKSPACE)\n",
    "        \n",
    "def indeed_query(title, location, dirty_jobs):\n",
    "    # Go to Indeed homepage\n",
    "    global browser\n",
    "    browser.get(\"https://www.indeed.com/\")\n",
    "    print('Scraping:', title, '-', location)\n",
    "    # Find input fields\n",
    "    what = browser.find_element_by_name(\"q\")\n",
    "    what.send_keys(str(title))\n",
    "    where = browser.find_element_by_name(\"l\")\n",
    "    clear_auto(where)\n",
    "    where.send_keys(str(location))\n",
    "\n",
    "    # Click Search\n",
    "    button = browser.find_element_by_class_name(\"icl-Button\")\n",
    "    button.click()\n",
    "\n",
    "    # Collect pages to scrape\n",
    "    url = browser.current_url\n",
    "\n",
    "    # Get soup for the results page\n",
    "    html = urlopen(url)\n",
    "    soup = BeautifulSoup(html, 'html.parser')\n",
    "\n",
    "    # extract job results\n",
    "    for link in soup.find_all('a', {'class':'jobtitle turnstileLink'}):\n",
    "        dirty_jobs.append(link.attrs['href'])\n",
    "        \n",
    "def deep_indeed_query(title, location, dirty_jobs):\n",
    "    # Go to Indeed homepage\n",
    "    global browser\n",
    "    browser.get(\"https://www.indeed.com/\")\n",
    "    print('Scraping:', title, '-', location)\n",
    "    # Find input fields\n",
    "    what = browser.find_element_by_name(\"q\")\n",
    "    what.send_keys(str(title))\n",
    "    where = browser.find_element_by_name(\"l\")\n",
    "    clear_auto(where)\n",
    "    where.send_keys(str(location))\n",
    "\n",
    "    # Click Search\n",
    "    button = browser.find_element_by_class_name(\"icl-Button\")\n",
    "    button.click()\n",
    "\n",
    "    for i in range(3):\n",
    "        # Collect pages to scrape\n",
    "        url = browser.current_url\n",
    "\n",
    "        # Get soup for the results page\n",
    "        html = urlopen(url)\n",
    "        soup = BeautifulSoup(html, 'html.parser')\n",
    "\n",
    "        # extract job results\n",
    "        for link in soup.find_all('a', {'class':'jobtitle turnstileLink'}):\n",
    "            dirty_jobs.append(link.attrs['href'])\n",
    "            \n",
    "        # click on next page\n",
    "        try:\n",
    "            next_page = browser.find_element_by_class_name(\"np\")\n",
    "            next_page.click()\n",
    "        except NoSuchElementException:\n",
    "            break\n",
    "        \n",
    "def clean_jobs(jobs):\n",
    "    # Find unique values\n",
    "    jobs = list(set(jobs))\n",
    "    \n",
    "    # Clean clean clean\n",
    "    for job in jobs:\n",
    "        if job.startswith('/pagead'):\n",
    "            jobs.remove(job)\n",
    "\n",
    "    for job in jobs:\n",
    "        if job.startswith('/pagead'):\n",
    "            jobs.remove(job)\n",
    "\n",
    "    for job in jobs:\n",
    "        if job.startswith('/pagead'):\n",
    "            jobs.remove(job)\n",
    "\n",
    "    for job in jobs:\n",
    "        if job.startswith('/pagead'):\n",
    "            jobs.remove(job)\n",
    "\n",
    "    for job in jobs:\n",
    "        if job.startswith('/pagead'):\n",
    "            jobs.remove(job)\n",
    "\n",
    "    for job in jobs:\n",
    "        if job.startswith('/pagead'):\n",
    "            jobs.remove(job)\n",
    "            \n",
    "    # add prefix\n",
    "    jobs = ['https://www.indeed.com' + job for job in jobs]\n",
    "            \n",
    "    return jobs\n",
    "\n",
    "def indeed_crawl(titles, locations, dirty_jobs):\n",
    "\n",
    "    # Loop locations\n",
    "    for location in locations:\n",
    "        # Loop titles\n",
    "        for title in titles:\n",
    "            deep_indeed_query(title, location, dirty_jobs)\n",
    "\n",
    "    # Clean it up\n",
    "    jobs = clean_jobs(dirty_jobs)\n",
    "    return jobs\n",
    "\n",
    "def clean_description(text):\n",
    "    # Clean\n",
    "    clean_text = BeautifulSoup(text, \"lxml\").text\n",
    "    # clean_text = clean_text[2:]\n",
    "    clean_text = re.sub(r'\\\\n', ' ', clean_text)\n",
    "    clean_text = re.sub(r'/', ' ', clean_text)\n",
    "    clean_text = re.sub(r'[^a-zA-Z ^0-9]', '', clean_text)\n",
    "    \n",
    "    return clean_text\n",
    "\n",
    "def tokenize(text):\n",
    "    # Tokenize\n",
    "    doc = nlp(text)\n",
    "    tokens = [token.lemma_ for token in doc if (token.is_stop != True) and (token.is_punct != True)]\n",
    "    if ' ' in tokens:\n",
    "        tokens.remove(' ')\n",
    "    if '  ' in tokens:\n",
    "        tokens.remove('  ')\n",
    "    return tokens\n",
    "\n",
    "def fit_for_nn(text_list):\n",
    "    # Create a vocab and get word counts per doc\n",
    "    sparse = tfidf.fit_transform(text)\n",
    "    # send to df\n",
    "    tfidf_dtm = pd.DataFrame(sparse.todense(), columns = tfidf.get_feature_names())\n",
    "    return tfidf_dtm\n",
    "    \n",
    "def process_query_for_nn(string):\n",
    "    # Create a vocab and get word counts per doc\n",
    "    sparse = tfidf.transform([query])\n",
    "    query_dtm = pd.DataFrame(sparse.todense(), columns = tfidf.get_feature_names())\n",
    "    return query_dtm"
   ]
  },
  {
   "cell_type": "code",
   "execution_count": 3,
   "metadata": {},
   "outputs": [],
   "source": [
    "def deep_indeed_query(title, location, dirty_jobs):\n",
    "    # Go to Indeed homepage\n",
    "    global browser\n",
    "    browser.get(\"https://www.indeed.com/\")\n",
    "    print('Scraping:', title, '-', location)\n",
    "    # Find input fields\n",
    "    what = browser.find_element_by_name(\"q\")\n",
    "    what.send_keys(str(title))\n",
    "    where = browser.find_element_by_name(\"l\")\n",
    "    clear_auto(where)\n",
    "    where.send_keys(str(location))\n",
    "\n",
    "    # Click Search\n",
    "    button = browser.find_element_by_class_name(\"icl-Button\")\n",
    "    button.click()\n",
    "\n",
    "    for i in range(3):\n",
    "        # Collect pages to scrape\n",
    "        url = browser.current_url\n",
    "\n",
    "        # Get soup for the results page\n",
    "        html = urlopen(url)\n",
    "        soup = BeautifulSoup(html, 'html.parser')\n",
    "\n",
    "        # extract job results\n",
    "        for link in soup.find_all('a', {'class':'jobtitle turnstileLink'}):\n",
    "            dirty_jobs.append(link.attrs['href'])\n",
    "            \n",
    "        # exit popup if it comes up\n",
    "        try:\n",
    "            popup_x = browser.find_element_by_class_name(\"icl-Icon icl-Icon--sm  icl-Icon--black close\")\n",
    "            popup_x.click()\n",
    "        except NoSuchElementException:\n",
    "            break\n",
    "        \n",
    "        # click on next page\n",
    "        try:\n",
    "            next_page = browser.find_element_by_class_name(\"np\")\n",
    "            next_page.click()\n",
    "        except NoSuchElementException:\n",
    "            break\n",
    "            \n",
    "# <svg role=\"img\" class=\"icl-Icon icl-Icon--sm  icl-Icon--black close\""
   ]
  },
  {
   "cell_type": "markdown",
   "metadata": {},
   "source": [
    "## Spin-Up Web Browser"
   ]
  },
  {
   "cell_type": "code",
   "execution_count": 4,
   "metadata": {
    "scrolled": true
   },
   "outputs": [
    {
     "name": "stderr",
     "output_type": "stream",
     "text": [
      "/anaconda3/lib/python3.7/site-packages/ipykernel_launcher.py:6: DeprecationWarning: use options instead of chrome_options\n",
      "  \n"
     ]
    }
   ],
   "source": [
    "# Specifying incognito mode as you launch your browser[OPTIONAL]\n",
    "option = webdriver.ChromeOptions()\n",
    "option.add_argument(\"--incognito\")\n",
    "    \n",
    "# Create new Instance of Chrome in incognito mode\n",
    "browser = webdriver.Chrome(executable_path='../Documents/Web Drivers/chromedriver', chrome_options=option)"
   ]
  },
  {
   "cell_type": "code",
   "execution_count": 5,
   "metadata": {},
   "outputs": [],
   "source": [
    "# Titles and locations\n",
    "titles = [\"Registered Behavior Technician\", \"Behavioral Sciences Intern\", \"Human Resources\"]\n",
    "locations = [\"Raleigh-Durham, NC\", \"Charlotte, NC\", \"Roanoke, VA\", \"Charlottesville, VA\",\n",
    "             \"Greensboro, NC\", \"Winston-Salem, NC\", \"Annapolis, MD\", \"Philadelphia, PA\",\n",
    "             \"Pittsburgh, PA\", \"Herndon, VA\", \"Washington, DC\", \"Arlington, VA\"]"
   ]
  },
  {
   "cell_type": "code",
   "execution_count": 6,
   "metadata": {},
   "outputs": [
    {
     "name": "stdout",
     "output_type": "stream",
     "text": [
      "Scraping: Registered Behavior Technician - Raleigh-Durham, NC\n",
      "Scraping: Behavioral Sciences Intern - Raleigh-Durham, NC\n",
      "Scraping: Human Resources - Raleigh-Durham, NC\n",
      "Scraping: Registered Behavior Technician - Charlotte, NC\n",
      "Scraping: Behavioral Sciences Intern - Charlotte, NC\n",
      "Scraping: Human Resources - Charlotte, NC\n",
      "Scraping: Registered Behavior Technician - Roanoke, VA\n",
      "Scraping: Behavioral Sciences Intern - Roanoke, VA\n",
      "Scraping: Human Resources - Roanoke, VA\n",
      "Scraping: Registered Behavior Technician - Charlottesville, VA\n",
      "Scraping: Behavioral Sciences Intern - Charlottesville, VA\n",
      "Scraping: Human Resources - Charlottesville, VA\n",
      "Scraping: Registered Behavior Technician - Greensboro, NC\n",
      "Scraping: Behavioral Sciences Intern - Greensboro, NC\n",
      "Scraping: Human Resources - Greensboro, NC\n",
      "Scraping: Registered Behavior Technician - Winston-Salem, NC\n",
      "Scraping: Behavioral Sciences Intern - Winston-Salem, NC\n",
      "Scraping: Human Resources - Winston-Salem, NC\n",
      "Scraping: Registered Behavior Technician - Annapolis, MD\n",
      "Scraping: Behavioral Sciences Intern - Annapolis, MD\n",
      "Scraping: Human Resources - Annapolis, MD\n",
      "Scraping: Registered Behavior Technician - Philadelphia, PA\n",
      "Scraping: Behavioral Sciences Intern - Philadelphia, PA\n",
      "Scraping: Human Resources - Philadelphia, PA\n",
      "Scraping: Registered Behavior Technician - Pittsburgh, PA\n",
      "Scraping: Behavioral Sciences Intern - Pittsburgh, PA\n",
      "Scraping: Human Resources - Pittsburgh, PA\n",
      "Scraping: Registered Behavior Technician - Herndon, VA\n",
      "Scraping: Behavioral Sciences Intern - Herndon, VA\n",
      "Scraping: Human Resources - Herndon, VA\n",
      "Scraping: Registered Behavior Technician - Washington, DC\n",
      "Scraping: Behavioral Sciences Intern - Washington, DC\n",
      "Scraping: Human Resources - Washington, DC\n",
      "Scraping: Registered Behavior Technician - Arlington, VA\n",
      "Scraping: Behavioral Sciences Intern - Arlington, VA\n",
      "Scraping: Human Resources - Arlington, VA\n"
     ]
    }
   ],
   "source": [
    "# Instantiate dirty_jobs\n",
    "dirty_jobs = []\n",
    "\n",
    "# Crawl over indeed.com\n",
    "jobs = indeed_crawl(titles, locations, dirty_jobs)"
   ]
  },
  {
   "cell_type": "markdown",
   "metadata": {},
   "source": [
    "<button class=\"icl-Button icl-Button--primary icl-Button--md icl-WhatWhere-button\" size=\"md\" type=\"submit\">Find Jobs</button>"
   ]
  },
  {
   "cell_type": "code",
   "execution_count": 7,
   "metadata": {},
   "outputs": [],
   "source": [
    "texts = []"
   ]
  },
  {
   "cell_type": "code",
   "execution_count": 8,
   "metadata": {},
   "outputs": [],
   "source": [
    "for job in jobs:\n",
    "    html = urlopen(job)\n",
    "    soup = BeautifulSoup(html, 'html.parser')\n",
    "    \n",
    "    texts.append(soup.find_all('div', {'class':'jobsearch-jobDescriptionText'}))"
   ]
  },
  {
   "cell_type": "code",
   "execution_count": 9,
   "metadata": {},
   "outputs": [],
   "source": [
    "texts = [str(text)[1:-1] for text in texts]"
   ]
  },
  {
   "cell_type": "code",
   "execution_count": 10,
   "metadata": {},
   "outputs": [
    {
     "data": {
      "text/html": [
       "<div>\n",
       "<style scoped>\n",
       "    .dataframe tbody tr th:only-of-type {\n",
       "        vertical-align: middle;\n",
       "    }\n",
       "\n",
       "    .dataframe tbody tr th {\n",
       "        vertical-align: top;\n",
       "    }\n",
       "\n",
       "    .dataframe thead th {\n",
       "        text-align: right;\n",
       "    }\n",
       "</style>\n",
       "<table border=\"1\" class=\"dataframe\">\n",
       "  <thead>\n",
       "    <tr style=\"text-align: right;\">\n",
       "      <th></th>\n",
       "      <th>description</th>\n",
       "      <th>jobs</th>\n",
       "    </tr>\n",
       "  </thead>\n",
       "  <tbody>\n",
       "    <tr>\n",
       "      <td>0</td>\n",
       "      <td>&lt;div class=\"jobsearch-jobDescriptionText\" id=\"...</td>\n",
       "      <td>https://www.indeed.com/rc/clk?jk=7200746b122d7...</td>\n",
       "    </tr>\n",
       "    <tr>\n",
       "      <td>1</td>\n",
       "      <td>&lt;div class=\"jobsearch-jobDescriptionText\" id=\"...</td>\n",
       "      <td>https://www.indeed.com/rc/clk?jk=e7dd3396a371c...</td>\n",
       "    </tr>\n",
       "    <tr>\n",
       "      <td>2</td>\n",
       "      <td>&lt;div class=\"jobsearch-jobDescriptionText\" id=\"...</td>\n",
       "      <td>https://www.indeed.com/company/Bonitz,-Inc/job...</td>\n",
       "    </tr>\n",
       "    <tr>\n",
       "      <td>3</td>\n",
       "      <td>&lt;div class=\"jobsearch-jobDescriptionText\" id=\"...</td>\n",
       "      <td>https://www.indeed.com/rc/clk?jk=8d9a483cbf945...</td>\n",
       "    </tr>\n",
       "    <tr>\n",
       "      <td>4</td>\n",
       "      <td>&lt;div class=\"jobsearch-jobDescriptionText\" id=\"...</td>\n",
       "      <td>https://www.indeed.com/rc/clk?jk=d306041351e8e...</td>\n",
       "    </tr>\n",
       "  </tbody>\n",
       "</table>\n",
       "</div>"
      ],
      "text/plain": [
       "                                         description  \\\n",
       "0  <div class=\"jobsearch-jobDescriptionText\" id=\"...   \n",
       "1  <div class=\"jobsearch-jobDescriptionText\" id=\"...   \n",
       "2  <div class=\"jobsearch-jobDescriptionText\" id=\"...   \n",
       "3  <div class=\"jobsearch-jobDescriptionText\" id=\"...   \n",
       "4  <div class=\"jobsearch-jobDescriptionText\" id=\"...   \n",
       "\n",
       "                                                jobs  \n",
       "0  https://www.indeed.com/rc/clk?jk=7200746b122d7...  \n",
       "1  https://www.indeed.com/rc/clk?jk=e7dd3396a371c...  \n",
       "2  https://www.indeed.com/company/Bonitz,-Inc/job...  \n",
       "3  https://www.indeed.com/rc/clk?jk=8d9a483cbf945...  \n",
       "4  https://www.indeed.com/rc/clk?jk=d306041351e8e...  "
      ]
     },
     "execution_count": 10,
     "metadata": {},
     "output_type": "execute_result"
    }
   ],
   "source": [
    "# Send to df\n",
    "df = pd.DataFrame(texts, columns = ['description'])\n",
    "df['jobs'] = jobs\n",
    "df.head()"
   ]
  },
  {
   "cell_type": "code",
   "execution_count": 11,
   "metadata": {},
   "outputs": [],
   "source": [
    "# NLP Model\n",
    "nlp = spacy.load(\"en_core_web_md\")"
   ]
  },
  {
   "cell_type": "code",
   "execution_count": 12,
   "metadata": {},
   "outputs": [],
   "source": [
    "# Clean and tokenize the descriptions\n",
    "df['tokens'] = df['description'].apply(clean_description).apply(tokenize)"
   ]
  },
  {
   "cell_type": "code",
   "execution_count": 13,
   "metadata": {},
   "outputs": [],
   "source": [
    "# send clean text to list\n",
    "text = df['description'].apply(clean_description).tolist()"
   ]
  },
  {
   "cell_type": "code",
   "execution_count": 14,
   "metadata": {},
   "outputs": [],
   "source": [
    "# Instantiate Vectorizer\n",
    "tfidf = TfidfVectorizer(stop_words = 'english')"
   ]
  },
  {
   "cell_type": "code",
   "execution_count": 15,
   "metadata": {},
   "outputs": [],
   "source": [
    "tfidf_dtm = fit_for_nn(text)"
   ]
  },
  {
   "cell_type": "code",
   "execution_count": 16,
   "metadata": {},
   "outputs": [],
   "source": [
    "# Create a vocab and get word counts per doc\n",
    "sparse = tfidf.fit_transform(text)"
   ]
  },
  {
   "cell_type": "code",
   "execution_count": 17,
   "metadata": {},
   "outputs": [],
   "source": [
    "# send to df\n",
    "tfidf_dtm = pd.DataFrame(sparse.todense(), columns = tfidf.get_feature_names())"
   ]
  },
  {
   "cell_type": "markdown",
   "metadata": {},
   "source": [
    "## Model"
   ]
  },
  {
   "cell_type": "code",
   "execution_count": 28,
   "metadata": {
    "scrolled": true
   },
   "outputs": [
    {
     "data": {
      "text/plain": [
       "NearestNeighbors(algorithm='ball_tree', leaf_size=30, metric='minkowski',\n",
       "                 metric_params=None, n_jobs=None, n_neighbors=20, p=2,\n",
       "                 radius=1.0)"
      ]
     },
     "execution_count": 28,
     "metadata": {},
     "output_type": "execute_result"
    }
   ],
   "source": [
    "# Instantiate model\n",
    "nn = NearestNeighbors(n_neighbors=20, algorithm='ball_tree')\n",
    "nn.fit(tfidf_dtm)"
   ]
  },
  {
   "cell_type": "code",
   "execution_count": 29,
   "metadata": {},
   "outputs": [],
   "source": [
    "# query = \"\"\"I use python to collect and scrape data from the web. I can set up integrated data pipelines\n",
    "#         pipeline to collect data from different sources. I train machine learning models using sklearn, \n",
    "#         and tensorflow with keras. BeautifulSoup and Selenium. BeautifulSoup and Selenium.\n",
    "#         BeautifulSoup and Selenium. BeautifulSoup and Selenium. I can give results to developers using Flask apps\n",
    "#         and Flask APIs API. I can access APIs API and RSS feeds. I can also use SQL, particularly ElephantSQL\n",
    "#         and Postgres. I like venture capital, finance and business consulting. I love to work with\n",
    "#         natural language processing. Looking for a junior or entry level entry-level or mid level mid-level\n",
    "#         venture capital, finance and business consulting venture capital, finance and business consulting\n",
    "#         venture capital, finance and business consulting venture capital, finance and business consulting\"\"\"\n",
    "\n",
    "query = \"\"\"behavioral sciences intern working with children or adults with disablities behavioral therapy\n",
    "        graphic design personalized personal disabled\"\"\"\n",
    "\n",
    "query_dtm = process_query_for_nn(query)"
   ]
  },
  {
   "cell_type": "code",
   "execution_count": 30,
   "metadata": {},
   "outputs": [],
   "source": [
    "# Query for closest neighbors\n",
    "results = nn.kneighbors(query_dtm)[1][0].tolist()"
   ]
  },
  {
   "cell_type": "code",
   "execution_count": 31,
   "metadata": {
    "scrolled": true
   },
   "outputs": [],
   "source": [
    "# Send to list\n",
    "job_urls = df['jobs'][results].tolist()"
   ]
  },
  {
   "cell_type": "code",
   "execution_count": 32,
   "metadata": {},
   "outputs": [
    {
     "data": {
      "text/html": [
       "<style  type=\"text/css\" >\n",
       "</style><table id=\"T_e86ef456_f9dc_11e9_b5b3_a45e60be03c1\" ><thead>    <tr>        <th class=\"blank level0\" ></th>        <th class=\"col_heading level0 col0\" >0</th>    </tr></thead><tbody>\n",
       "                <tr>\n",
       "                        <th id=\"T_e86ef456_f9dc_11e9_b5b3_a45e60be03c1level0_row0\" class=\"row_heading level0 row0\" >0</th>\n",
       "                        <td id=\"T_e86ef456_f9dc_11e9_b5b3_a45e60be03c1row0_col0\" class=\"data row0 col0\" ><a href=\"https://www.indeed.com/rc/clk?jk=fdeb02a81f93a65a&fccid=3a71a4d2f7990a25&vjs=3\">https://www.indeed.com/rc/clk?jk=fdeb02a81f93a65a&fccid=3a71a4d2f7990a25&vjs=3</a></td>\n",
       "            </tr>\n",
       "            <tr>\n",
       "                        <th id=\"T_e86ef456_f9dc_11e9_b5b3_a45e60be03c1level0_row1\" class=\"row_heading level0 row1\" >1</th>\n",
       "                        <td id=\"T_e86ef456_f9dc_11e9_b5b3_a45e60be03c1row1_col0\" class=\"data row1 col0\" ><a href=\"https://www.indeed.com/rc/clk?jk=c3c9ee70a6cd9436&fccid=fd03a1a845b02aae&vjs=3\">https://www.indeed.com/rc/clk?jk=c3c9ee70a6cd9436&fccid=fd03a1a845b02aae&vjs=3</a></td>\n",
       "            </tr>\n",
       "            <tr>\n",
       "                        <th id=\"T_e86ef456_f9dc_11e9_b5b3_a45e60be03c1level0_row2\" class=\"row_heading level0 row2\" >2</th>\n",
       "                        <td id=\"T_e86ef456_f9dc_11e9_b5b3_a45e60be03c1row2_col0\" class=\"data row2 col0\" ><a href=\"https://www.indeed.com/rc/clk?jk=d577cfddd0ae0757&fccid=36855770b7ed7408&vjs=3\">https://www.indeed.com/rc/clk?jk=d577cfddd0ae0757&fccid=36855770b7ed7408&vjs=3</a></td>\n",
       "            </tr>\n",
       "            <tr>\n",
       "                        <th id=\"T_e86ef456_f9dc_11e9_b5b3_a45e60be03c1level0_row3\" class=\"row_heading level0 row3\" >3</th>\n",
       "                        <td id=\"T_e86ef456_f9dc_11e9_b5b3_a45e60be03c1row3_col0\" class=\"data row3 col0\" ><a href=\"https://www.indeed.com/rc/clk?jk=9aaa252f2a66548e&fccid=647dd81b1cc7dbb9&vjs=3\">https://www.indeed.com/rc/clk?jk=9aaa252f2a66548e&fccid=647dd81b1cc7dbb9&vjs=3</a></td>\n",
       "            </tr>\n",
       "            <tr>\n",
       "                        <th id=\"T_e86ef456_f9dc_11e9_b5b3_a45e60be03c1level0_row4\" class=\"row_heading level0 row4\" >4</th>\n",
       "                        <td id=\"T_e86ef456_f9dc_11e9_b5b3_a45e60be03c1row4_col0\" class=\"data row4 col0\" ><a href=\"https://www.indeed.com/company/Within-Me-Therapy,-LLC/jobs/Registered-Behavior-Technician-3937b3ddc15fd35d?fccid=caa68c1767899b25&vjs=3\">https://www.indeed.com/company/Within-Me-Therapy,-LLC/jobs/Registered-Behavior-Technician-3937b3ddc15fd35d?fccid=caa68c1767899b25&vjs=3</a></td>\n",
       "            </tr>\n",
       "            <tr>\n",
       "                        <th id=\"T_e86ef456_f9dc_11e9_b5b3_a45e60be03c1level0_row5\" class=\"row_heading level0 row5\" >5</th>\n",
       "                        <td id=\"T_e86ef456_f9dc_11e9_b5b3_a45e60be03c1row5_col0\" class=\"data row5 col0\" ><a href=\"https://www.indeed.com/rc/clk?jk=66b2d8024633723d&fccid=1b2c71e3bba28fd8&vjs=3\">https://www.indeed.com/rc/clk?jk=66b2d8024633723d&fccid=1b2c71e3bba28fd8&vjs=3</a></td>\n",
       "            </tr>\n",
       "            <tr>\n",
       "                        <th id=\"T_e86ef456_f9dc_11e9_b5b3_a45e60be03c1level0_row6\" class=\"row_heading level0 row6\" >6</th>\n",
       "                        <td id=\"T_e86ef456_f9dc_11e9_b5b3_a45e60be03c1row6_col0\" class=\"data row6 col0\" ><a href=\"https://www.indeed.com/rc/clk?jk=5b407721f1cf7761&fccid=59f0e79f9587b3be&vjs=3\">https://www.indeed.com/rc/clk?jk=5b407721f1cf7761&fccid=59f0e79f9587b3be&vjs=3</a></td>\n",
       "            </tr>\n",
       "            <tr>\n",
       "                        <th id=\"T_e86ef456_f9dc_11e9_b5b3_a45e60be03c1level0_row7\" class=\"row_heading level0 row7\" >7</th>\n",
       "                        <td id=\"T_e86ef456_f9dc_11e9_b5b3_a45e60be03c1row7_col0\" class=\"data row7 col0\" ><a href=\"https://www.indeed.com/rc/clk?jk=2b26b4bde669090f&fccid=1b2c71e3bba28fd8&vjs=3\">https://www.indeed.com/rc/clk?jk=2b26b4bde669090f&fccid=1b2c71e3bba28fd8&vjs=3</a></td>\n",
       "            </tr>\n",
       "            <tr>\n",
       "                        <th id=\"T_e86ef456_f9dc_11e9_b5b3_a45e60be03c1level0_row8\" class=\"row_heading level0 row8\" >8</th>\n",
       "                        <td id=\"T_e86ef456_f9dc_11e9_b5b3_a45e60be03c1row8_col0\" class=\"data row8 col0\" ><a href=\"https://www.indeed.com/rc/clk?jk=2877d8e5332b5bd8&fccid=dd977a85793e145b&vjs=3\">https://www.indeed.com/rc/clk?jk=2877d8e5332b5bd8&fccid=dd977a85793e145b&vjs=3</a></td>\n",
       "            </tr>\n",
       "            <tr>\n",
       "                        <th id=\"T_e86ef456_f9dc_11e9_b5b3_a45e60be03c1level0_row9\" class=\"row_heading level0 row9\" >9</th>\n",
       "                        <td id=\"T_e86ef456_f9dc_11e9_b5b3_a45e60be03c1row9_col0\" class=\"data row9 col0\" ><a href=\"https://www.indeed.com/rc/clk?jk=20b34b3780ac1204&fccid=4251c565f41817c0&vjs=3\">https://www.indeed.com/rc/clk?jk=20b34b3780ac1204&fccid=4251c565f41817c0&vjs=3</a></td>\n",
       "            </tr>\n",
       "            <tr>\n",
       "                        <th id=\"T_e86ef456_f9dc_11e9_b5b3_a45e60be03c1level0_row10\" class=\"row_heading level0 row10\" >10</th>\n",
       "                        <td id=\"T_e86ef456_f9dc_11e9_b5b3_a45e60be03c1row10_col0\" class=\"data row10 col0\" ><a href=\"https://www.indeed.com/company/Therapeutic-Alliance/jobs/Aba-Technician-6b837bbf190dbbd0?fccid=4251c565f41817c0&vjs=3\">https://www.indeed.com/company/Therapeutic-Alliance/jobs/Aba-Technician-6b837bbf190dbbd0?fccid=4251c565f41817c0&vjs=3</a></td>\n",
       "            </tr>\n",
       "            <tr>\n",
       "                        <th id=\"T_e86ef456_f9dc_11e9_b5b3_a45e60be03c1level0_row11\" class=\"row_heading level0 row11\" >11</th>\n",
       "                        <td id=\"T_e86ef456_f9dc_11e9_b5b3_a45e60be03c1row11_col0\" class=\"data row11 col0\" ><a href=\"https://www.indeed.com/rc/clk?jk=0891aacfe9bc313f&fccid=4251c565f41817c0&vjs=3\">https://www.indeed.com/rc/clk?jk=0891aacfe9bc313f&fccid=4251c565f41817c0&vjs=3</a></td>\n",
       "            </tr>\n",
       "            <tr>\n",
       "                        <th id=\"T_e86ef456_f9dc_11e9_b5b3_a45e60be03c1level0_row12\" class=\"row_heading level0 row12\" >12</th>\n",
       "                        <td id=\"T_e86ef456_f9dc_11e9_b5b3_a45e60be03c1row12_col0\" class=\"data row12 col0\" ><a href=\"https://www.indeed.com/rc/clk?jk=d13f16e3d6e72d6f&fccid=1b2c71e3bba28fd8&vjs=3\">https://www.indeed.com/rc/clk?jk=d13f16e3d6e72d6f&fccid=1b2c71e3bba28fd8&vjs=3</a></td>\n",
       "            </tr>\n",
       "            <tr>\n",
       "                        <th id=\"T_e86ef456_f9dc_11e9_b5b3_a45e60be03c1level0_row13\" class=\"row_heading level0 row13\" >13</th>\n",
       "                        <td id=\"T_e86ef456_f9dc_11e9_b5b3_a45e60be03c1row13_col0\" class=\"data row13 col0\" ><a href=\"https://www.indeed.com/rc/clk?jk=78d568d7e8cbd464&fccid=f80ea596f6a329ab&vjs=3\">https://www.indeed.com/rc/clk?jk=78d568d7e8cbd464&fccid=f80ea596f6a329ab&vjs=3</a></td>\n",
       "            </tr>\n",
       "            <tr>\n",
       "                        <th id=\"T_e86ef456_f9dc_11e9_b5b3_a45e60be03c1level0_row14\" class=\"row_heading level0 row14\" >14</th>\n",
       "                        <td id=\"T_e86ef456_f9dc_11e9_b5b3_a45e60be03c1row14_col0\" class=\"data row14 col0\" ><a href=\"https://www.indeed.com/rc/clk?jk=5fefeceba340581e&fccid=105cc25c3f5819cd&vjs=3\">https://www.indeed.com/rc/clk?jk=5fefeceba340581e&fccid=105cc25c3f5819cd&vjs=3</a></td>\n",
       "            </tr>\n",
       "            <tr>\n",
       "                        <th id=\"T_e86ef456_f9dc_11e9_b5b3_a45e60be03c1level0_row15\" class=\"row_heading level0 row15\" >15</th>\n",
       "                        <td id=\"T_e86ef456_f9dc_11e9_b5b3_a45e60be03c1row15_col0\" class=\"data row15 col0\" ><a href=\"https://www.indeed.com/rc/clk?jk=25baacbb67046c4a&fccid=3da569ef4f168e3d&vjs=3\">https://www.indeed.com/rc/clk?jk=25baacbb67046c4a&fccid=3da569ef4f168e3d&vjs=3</a></td>\n",
       "            </tr>\n",
       "            <tr>\n",
       "                        <th id=\"T_e86ef456_f9dc_11e9_b5b3_a45e60be03c1level0_row16\" class=\"row_heading level0 row16\" >16</th>\n",
       "                        <td id=\"T_e86ef456_f9dc_11e9_b5b3_a45e60be03c1row16_col0\" class=\"data row16 col0\" ><a href=\"https://www.indeed.com/company/Virginia-Autism-&-Behavior-Consulting/jobs/Behavior-Technician-3ecbbadce6b18fa0?fccid=09fa151c3f674693&vjs=3\">https://www.indeed.com/company/Virginia-Autism-&-Behavior-Consulting/jobs/Behavior-Technician-3ecbbadce6b18fa0?fccid=09fa151c3f674693&vjs=3</a></td>\n",
       "            </tr>\n",
       "            <tr>\n",
       "                        <th id=\"T_e86ef456_f9dc_11e9_b5b3_a45e60be03c1level0_row17\" class=\"row_heading level0 row17\" >17</th>\n",
       "                        <td id=\"T_e86ef456_f9dc_11e9_b5b3_a45e60be03c1row17_col0\" class=\"data row17 col0\" ><a href=\"https://www.indeed.com/rc/clk?jk=6b5a368fb8b68a25&fccid=ea25315ee9da22e5&vjs=3\">https://www.indeed.com/rc/clk?jk=6b5a368fb8b68a25&fccid=ea25315ee9da22e5&vjs=3</a></td>\n",
       "            </tr>\n",
       "            <tr>\n",
       "                        <th id=\"T_e86ef456_f9dc_11e9_b5b3_a45e60be03c1level0_row18\" class=\"row_heading level0 row18\" >18</th>\n",
       "                        <td id=\"T_e86ef456_f9dc_11e9_b5b3_a45e60be03c1row18_col0\" class=\"data row18 col0\" ><a href=\"https://www.indeed.com/rc/clk?jk=37e41de39cdb9458&fccid=f7d8abb663e9603b&vjs=3\">https://www.indeed.com/rc/clk?jk=37e41de39cdb9458&fccid=f7d8abb663e9603b&vjs=3</a></td>\n",
       "            </tr>\n",
       "            <tr>\n",
       "                        <th id=\"T_e86ef456_f9dc_11e9_b5b3_a45e60be03c1level0_row19\" class=\"row_heading level0 row19\" >19</th>\n",
       "                        <td id=\"T_e86ef456_f9dc_11e9_b5b3_a45e60be03c1row19_col0\" class=\"data row19 col0\" ><a href=\"https://www.indeed.com/rc/clk?jk=7b26d786879a954f&fccid=f7d8abb663e9603b&vjs=3\">https://www.indeed.com/rc/clk?jk=7b26d786879a954f&fccid=f7d8abb663e9603b&vjs=3</a></td>\n",
       "            </tr>\n",
       "    </tbody></table>"
      ],
      "text/plain": [
       "<pandas.io.formats.style.Styler at 0x1a4f0385c0>"
      ]
     },
     "execution_count": 32,
     "metadata": {},
     "output_type": "execute_result"
    }
   ],
   "source": [
    "def make_clickable(val):\n",
    "    return '<a href=\"{}\">{}</a>'.format(val, val)\n",
    "\n",
    "jobs_df = pd.DataFrame(job_urls)\n",
    "\n",
    "jobs_df.style.format(make_clickable)"
   ]
  },
  {
   "cell_type": "code",
   "execution_count": 33,
   "metadata": {},
   "outputs": [
    {
     "data": {
      "text/plain": [
       "['<a href=\"{https://www.indeed.com/rc/clk?jk=fdeb02a81f93a65a&fccid=3a71a4d2f7990a25&vjs=3}\">{https://www.indeed.com/rc/clk?jk=fdeb02a81f93a65a&fccid=3a71a4d2f7990a25&vjs=3}</a>',\n",
       " '<a href=\"{https://www.indeed.com/rc/clk?jk=c3c9ee70a6cd9436&fccid=fd03a1a845b02aae&vjs=3}\">{https://www.indeed.com/rc/clk?jk=c3c9ee70a6cd9436&fccid=fd03a1a845b02aae&vjs=3}</a>',\n",
       " '<a href=\"{https://www.indeed.com/rc/clk?jk=d577cfddd0ae0757&fccid=36855770b7ed7408&vjs=3}\">{https://www.indeed.com/rc/clk?jk=d577cfddd0ae0757&fccid=36855770b7ed7408&vjs=3}</a>',\n",
       " '<a href=\"{https://www.indeed.com/rc/clk?jk=9aaa252f2a66548e&fccid=647dd81b1cc7dbb9&vjs=3}\">{https://www.indeed.com/rc/clk?jk=9aaa252f2a66548e&fccid=647dd81b1cc7dbb9&vjs=3}</a>',\n",
       " '<a href=\"{https://www.indeed.com/company/Within-Me-Therapy,-LLC/jobs/Registered-Behavior-Technician-3937b3ddc15fd35d?fccid=caa68c1767899b25&vjs=3}\">{https://www.indeed.com/company/Within-Me-Therapy,-LLC/jobs/Registered-Behavior-Technician-3937b3ddc15fd35d?fccid=caa68c1767899b25&vjs=3}</a>',\n",
       " '<a href=\"{https://www.indeed.com/rc/clk?jk=66b2d8024633723d&fccid=1b2c71e3bba28fd8&vjs=3}\">{https://www.indeed.com/rc/clk?jk=66b2d8024633723d&fccid=1b2c71e3bba28fd8&vjs=3}</a>',\n",
       " '<a href=\"{https://www.indeed.com/rc/clk?jk=5b407721f1cf7761&fccid=59f0e79f9587b3be&vjs=3}\">{https://www.indeed.com/rc/clk?jk=5b407721f1cf7761&fccid=59f0e79f9587b3be&vjs=3}</a>',\n",
       " '<a href=\"{https://www.indeed.com/rc/clk?jk=2b26b4bde669090f&fccid=1b2c71e3bba28fd8&vjs=3}\">{https://www.indeed.com/rc/clk?jk=2b26b4bde669090f&fccid=1b2c71e3bba28fd8&vjs=3}</a>',\n",
       " '<a href=\"{https://www.indeed.com/rc/clk?jk=2877d8e5332b5bd8&fccid=dd977a85793e145b&vjs=3}\">{https://www.indeed.com/rc/clk?jk=2877d8e5332b5bd8&fccid=dd977a85793e145b&vjs=3}</a>',\n",
       " '<a href=\"{https://www.indeed.com/rc/clk?jk=20b34b3780ac1204&fccid=4251c565f41817c0&vjs=3}\">{https://www.indeed.com/rc/clk?jk=20b34b3780ac1204&fccid=4251c565f41817c0&vjs=3}</a>',\n",
       " '<a href=\"{https://www.indeed.com/company/Therapeutic-Alliance/jobs/Aba-Technician-6b837bbf190dbbd0?fccid=4251c565f41817c0&vjs=3}\">{https://www.indeed.com/company/Therapeutic-Alliance/jobs/Aba-Technician-6b837bbf190dbbd0?fccid=4251c565f41817c0&vjs=3}</a>',\n",
       " '<a href=\"{https://www.indeed.com/rc/clk?jk=0891aacfe9bc313f&fccid=4251c565f41817c0&vjs=3}\">{https://www.indeed.com/rc/clk?jk=0891aacfe9bc313f&fccid=4251c565f41817c0&vjs=3}</a>',\n",
       " '<a href=\"{https://www.indeed.com/rc/clk?jk=d13f16e3d6e72d6f&fccid=1b2c71e3bba28fd8&vjs=3}\">{https://www.indeed.com/rc/clk?jk=d13f16e3d6e72d6f&fccid=1b2c71e3bba28fd8&vjs=3}</a>',\n",
       " '<a href=\"{https://www.indeed.com/rc/clk?jk=78d568d7e8cbd464&fccid=f80ea596f6a329ab&vjs=3}\">{https://www.indeed.com/rc/clk?jk=78d568d7e8cbd464&fccid=f80ea596f6a329ab&vjs=3}</a>',\n",
       " '<a href=\"{https://www.indeed.com/rc/clk?jk=5fefeceba340581e&fccid=105cc25c3f5819cd&vjs=3}\">{https://www.indeed.com/rc/clk?jk=5fefeceba340581e&fccid=105cc25c3f5819cd&vjs=3}</a>',\n",
       " '<a href=\"{https://www.indeed.com/rc/clk?jk=25baacbb67046c4a&fccid=3da569ef4f168e3d&vjs=3}\">{https://www.indeed.com/rc/clk?jk=25baacbb67046c4a&fccid=3da569ef4f168e3d&vjs=3}</a>',\n",
       " '<a href=\"{https://www.indeed.com/company/Virginia-Autism-&-Behavior-Consulting/jobs/Behavior-Technician-3ecbbadce6b18fa0?fccid=09fa151c3f674693&vjs=3}\">{https://www.indeed.com/company/Virginia-Autism-&-Behavior-Consulting/jobs/Behavior-Technician-3ecbbadce6b18fa0?fccid=09fa151c3f674693&vjs=3}</a>',\n",
       " '<a href=\"{https://www.indeed.com/rc/clk?jk=6b5a368fb8b68a25&fccid=ea25315ee9da22e5&vjs=3}\">{https://www.indeed.com/rc/clk?jk=6b5a368fb8b68a25&fccid=ea25315ee9da22e5&vjs=3}</a>',\n",
       " '<a href=\"{https://www.indeed.com/rc/clk?jk=37e41de39cdb9458&fccid=f7d8abb663e9603b&vjs=3}\">{https://www.indeed.com/rc/clk?jk=37e41de39cdb9458&fccid=f7d8abb663e9603b&vjs=3}</a>',\n",
       " '<a href=\"{https://www.indeed.com/rc/clk?jk=7b26d786879a954f&fccid=f7d8abb663e9603b&vjs=3}\">{https://www.indeed.com/rc/clk?jk=7b26d786879a954f&fccid=f7d8abb663e9603b&vjs=3}</a>']"
      ]
     },
     "execution_count": 33,
     "metadata": {},
     "output_type": "execute_result"
    }
   ],
   "source": [
    "['<a href=\"{' + link +'}\">{' + link + '}</a>' for link in job_urls]"
   ]
  },
  {
   "cell_type": "code",
   "execution_count": null,
   "metadata": {},
   "outputs": [],
   "source": []
  }
 ],
 "metadata": {
  "kernelspec": {
   "display_name": "Python 3",
   "language": "python",
   "name": "python3"
  },
  "language_info": {
   "codemirror_mode": {
    "name": "ipython",
    "version": 3
   },
   "file_extension": ".py",
   "mimetype": "text/x-python",
   "name": "python",
   "nbconvert_exporter": "python",
   "pygments_lexer": "ipython3",
   "version": "3.7.3"
  }
 },
 "nbformat": 4,
 "nbformat_minor": 2
}
