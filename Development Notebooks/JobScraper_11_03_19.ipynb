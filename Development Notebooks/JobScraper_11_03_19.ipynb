{
 "cells": [
  {
   "cell_type": "code",
   "execution_count": 1,
   "metadata": {},
   "outputs": [],
   "source": [
    "#######################\n",
    "####### Imports #######\n",
    "#######################\n",
    "\n",
    "# Flask App Imports\n",
    "from flask import Flask, jsonify, request, json\n",
    "from flask_restful import Api, reqparse\n",
    "from flask_cors import CORS\n",
    "\n",
    "# The usuals\n",
    "import matplotlib.pyplot as plt\n",
    "import pandas as pd\n",
    "import numpy as np\n",
    "\n",
    "# System Imports\n",
    "import re\n",
    "import os\n",
    "import time\n",
    "\n",
    "# Selenium Imports\n",
    "from selenium import webdriver\n",
    "from selenium.webdriver.common.by import By\n",
    "from selenium.webdriver.support.ui import WebDriverWait\n",
    "from selenium.webdriver.support import expected_conditions as EC\n",
    "from selenium.common.exceptions import TimeoutException, NoSuchElementException\n",
    "from selenium.webdriver.common.keys import Keys\n",
    "\n",
    "# Other imports\n",
    "from bs4 import BeautifulSoup\n",
    "from urllib.request import urlopen, Request\n",
    "from sklearn.feature_extraction.text import CountVectorizer, TfidfVectorizer\n",
    "from sklearn.neighbors import NearestNeighbors\n",
    "import spacy\n",
    "\n",
    "# Functions (Local Imports)\n",
    "from functions import (\n",
    "    clear_auto, deep_indeed_query, clean_jobs,\n",
    "    indeed_crawl, clean_description,\n",
    "    fit_for_nn, transform_query_for_nn, parse\n",
    ")"
   ]
  },
  {
   "cell_type": "markdown",
   "metadata": {},
   "source": [
    "## Spin-Up Web Browser"
   ]
  },
  {
   "cell_type": "code",
   "execution_count": 2,
   "metadata": {
    "scrolled": true
   },
   "outputs": [],
   "source": [
    "# Disable auto-complete\n",
    "profile = webdriver.FirefoxProfile()\n",
    "profile.set_preference(\"browser.formfill.enable\", \"false\")\n",
    "    \n",
    "# Create new Instance of Chrome in incognito mode\n",
    "browser = webdriver.Firefox(executable_path='../../Selenium/geckodriver')"
   ]
  },
  {
   "cell_type": "code",
   "execution_count": 3,
   "metadata": {},
   "outputs": [],
   "source": [
    "# Titles and locations\n",
    "titles = [\"Data Engineer\", \"Data Analyst\"]\n",
    "locations = [\"Raleigh-Durham, NC\", \"Charlotte, NC\", \"Roanoke, VA\", \"Charlottesville, VA\",\n",
    "             \"Greensboro, NC\", \"Winston-Salem, NC\"]"
   ]
  },
  {
   "cell_type": "code",
   "execution_count": 4,
   "metadata": {
    "scrolled": true
   },
   "outputs": [
    {
     "name": "stdout",
     "output_type": "stream",
     "text": [
      "Scraping: Data Engineer - Raleigh-Durham, NC\n",
      "Scraping: Data Analyst - Raleigh-Durham, NC\n",
      "Scraping: Data Engineer - Charlotte, NC\n",
      "Scraping: Data Analyst - Charlotte, NC\n",
      "Scraping: Data Engineer - Roanoke, VA\n",
      "Scraping: Data Analyst - Roanoke, VA\n",
      "Scraping: Data Engineer - Charlottesville, VA\n",
      "Scraping: Data Analyst - Charlottesville, VA\n",
      "Scraping: Data Engineer - Greensboro, NC\n",
      "Scraping: Data Analyst - Greensboro, NC\n",
      "Scraping: Data Engineer - Winston-Salem, NC\n",
      "Scraping: Data Analyst - Winston-Salem, NC\n"
     ]
    }
   ],
   "source": [
    "# Instantiate dirty_jobs\n",
    "dirty_jobs = []\n",
    "\n",
    "# Crawl over indeed.com\n",
    "jobs = indeed_crawl(titles, locations, dirty_jobs, browser)"
   ]
  },
  {
   "cell_type": "markdown",
   "metadata": {},
   "source": [
    "<button class=\"icl-Button icl-Button--primary icl-Button--md icl-WhatWhere-button\" size=\"md\" type=\"submit\">Find Jobs</button>"
   ]
  },
  {
   "cell_type": "code",
   "execution_count": 5,
   "metadata": {},
   "outputs": [],
   "source": [
    "texts = parse(jobs)"
   ]
  },
  {
   "cell_type": "code",
   "execution_count": 6,
   "metadata": {},
   "outputs": [],
   "source": [
    "texts = [str(text)[1:-1] for text in texts]"
   ]
  },
  {
   "cell_type": "code",
   "execution_count": 7,
   "metadata": {},
   "outputs": [
    {
     "data": {
      "text/html": [
       "<div>\n",
       "<style scoped>\n",
       "    .dataframe tbody tr th:only-of-type {\n",
       "        vertical-align: middle;\n",
       "    }\n",
       "\n",
       "    .dataframe tbody tr th {\n",
       "        vertical-align: top;\n",
       "    }\n",
       "\n",
       "    .dataframe thead th {\n",
       "        text-align: right;\n",
       "    }\n",
       "</style>\n",
       "<table border=\"1\" class=\"dataframe\">\n",
       "  <thead>\n",
       "    <tr style=\"text-align: right;\">\n",
       "      <th></th>\n",
       "      <th>description</th>\n",
       "      <th>jobs</th>\n",
       "    </tr>\n",
       "  </thead>\n",
       "  <tbody>\n",
       "    <tr>\n",
       "      <td>0</td>\n",
       "      <td>&lt;div class=\"jobsearch-jobDescriptionText\" id=\"...</td>\n",
       "      <td>https://www.indeed.com/rc/clk?jk=636c638aca5ed...</td>\n",
       "    </tr>\n",
       "    <tr>\n",
       "      <td>1</td>\n",
       "      <td>&lt;div class=\"jobsearch-jobDescriptionText\" id=\"...</td>\n",
       "      <td>https://www.indeed.com/rc/clk?jk=d0cad68fe6483...</td>\n",
       "    </tr>\n",
       "    <tr>\n",
       "      <td>2</td>\n",
       "      <td>&lt;div class=\"jobsearch-jobDescriptionText\" id=\"...</td>\n",
       "      <td>https://www.indeed.com/rc/clk?jk=7d12562c2822c...</td>\n",
       "    </tr>\n",
       "    <tr>\n",
       "      <td>3</td>\n",
       "      <td>&lt;div class=\"jobsearch-jobDescriptionText\" id=\"...</td>\n",
       "      <td>https://www.indeed.com/rc/clk?jk=4f5ada0860b7e...</td>\n",
       "    </tr>\n",
       "    <tr>\n",
       "      <td>4</td>\n",
       "      <td>&lt;div class=\"jobsearch-jobDescriptionText\" id=\"...</td>\n",
       "      <td>https://www.indeed.com/rc/clk?jk=6f004541197f5...</td>\n",
       "    </tr>\n",
       "  </tbody>\n",
       "</table>\n",
       "</div>"
      ],
      "text/plain": [
       "                                         description  \\\n",
       "0  <div class=\"jobsearch-jobDescriptionText\" id=\"...   \n",
       "1  <div class=\"jobsearch-jobDescriptionText\" id=\"...   \n",
       "2  <div class=\"jobsearch-jobDescriptionText\" id=\"...   \n",
       "3  <div class=\"jobsearch-jobDescriptionText\" id=\"...   \n",
       "4  <div class=\"jobsearch-jobDescriptionText\" id=\"...   \n",
       "\n",
       "                                                jobs  \n",
       "0  https://www.indeed.com/rc/clk?jk=636c638aca5ed...  \n",
       "1  https://www.indeed.com/rc/clk?jk=d0cad68fe6483...  \n",
       "2  https://www.indeed.com/rc/clk?jk=7d12562c2822c...  \n",
       "3  https://www.indeed.com/rc/clk?jk=4f5ada0860b7e...  \n",
       "4  https://www.indeed.com/rc/clk?jk=6f004541197f5...  "
      ]
     },
     "execution_count": 7,
     "metadata": {},
     "output_type": "execute_result"
    }
   ],
   "source": [
    "# Send to df\n",
    "df = pd.DataFrame(texts, columns = ['description'])\n",
    "df['jobs'] = jobs\n",
    "df.head()"
   ]
  },
  {
   "cell_type": "code",
   "execution_count": 8,
   "metadata": {},
   "outputs": [],
   "source": [
    "# NLP Model\n",
    "nlp = spacy.load(\"en_core_web_md\")"
   ]
  },
  {
   "cell_type": "code",
   "execution_count": 9,
   "metadata": {},
   "outputs": [],
   "source": [
    "def tokenize(text):\n",
    "    # Tokenize\n",
    "    doc = nlp(text)\n",
    "    tokens = [token.lemma_ for token in doc if (token.is_stop != True) and (token.is_punct != True)]\n",
    "    if ' ' in tokens:\n",
    "        tokens.remove(' ')\n",
    "    if '  ' in tokens:\n",
    "        tokens.remove('  ')\n",
    "    return tokens"
   ]
  },
  {
   "cell_type": "code",
   "execution_count": 10,
   "metadata": {},
   "outputs": [],
   "source": [
    "# Clean and tokenize the descriptions\n",
    "df['tokens'] = df['description'].apply(clean_description).apply(tokenize)"
   ]
  },
  {
   "cell_type": "code",
   "execution_count": 11,
   "metadata": {},
   "outputs": [],
   "source": [
    "# send clean text to list\n",
    "text = df['description'].apply(clean_description).tolist()"
   ]
  },
  {
   "cell_type": "code",
   "execution_count": 12,
   "metadata": {},
   "outputs": [],
   "source": [
    "# Instantiate Vectorizer\n",
    "tfidf = TfidfVectorizer(stop_words = 'english')"
   ]
  },
  {
   "cell_type": "code",
   "execution_count": 13,
   "metadata": {},
   "outputs": [],
   "source": [
    "def fit_for_nn(text_list):\n",
    "    # Create a vocab and get word counts per doc\n",
    "    sparse = tfidf.fit_transform(text_list)\n",
    "    # send to df\n",
    "    tfidf_dtm = pd.DataFrame(sparse.todense(), columns = tfidf.get_feature_names())\n",
    "    return tfidf_dtm"
   ]
  },
  {
   "cell_type": "code",
   "execution_count": 14,
   "metadata": {},
   "outputs": [],
   "source": [
    "tfidf_dtm = fit_for_nn(text)"
   ]
  },
  {
   "cell_type": "code",
   "execution_count": 15,
   "metadata": {},
   "outputs": [],
   "source": [
    "# Create a vocab and get word counts per doc\n",
    "sparse = tfidf.fit_transform(text)"
   ]
  },
  {
   "cell_type": "code",
   "execution_count": 16,
   "metadata": {},
   "outputs": [],
   "source": [
    "# send to df\n",
    "tfidf_dtm = pd.DataFrame(sparse.todense(), columns = tfidf.get_feature_names())"
   ]
  },
  {
   "cell_type": "markdown",
   "metadata": {},
   "source": [
    "## Model"
   ]
  },
  {
   "cell_type": "code",
   "execution_count": 17,
   "metadata": {
    "scrolled": true
   },
   "outputs": [
    {
     "data": {
      "text/plain": [
       "NearestNeighbors(algorithm='ball_tree', leaf_size=30, metric='minkowski',\n",
       "                 metric_params=None, n_jobs=None, n_neighbors=20, p=2,\n",
       "                 radius=1.0)"
      ]
     },
     "execution_count": 17,
     "metadata": {},
     "output_type": "execute_result"
    }
   ],
   "source": [
    "# Instantiate model\n",
    "nn = NearestNeighbors(n_neighbors=20, algorithm='ball_tree')\n",
    "nn.fit(tfidf_dtm)"
   ]
  },
  {
   "cell_type": "code",
   "execution_count": 18,
   "metadata": {},
   "outputs": [],
   "source": [
    "def transform_query_for_nn(string):\n",
    "    # Create a vocab and get word counts per doc\n",
    "    sparse = tfidf.transform([query])\n",
    "    query_dtm = pd.DataFrame(sparse.todense(), columns = tfidf.get_feature_names())\n",
    "    return query_dtm"
   ]
  },
  {
   "cell_type": "code",
   "execution_count": 19,
   "metadata": {},
   "outputs": [],
   "source": [
    "# query = \"\"\"I use python python python python python python python python python python \n",
    "#         to collect and scrape data from the web. I can set up integrated data pipelines\n",
    "#         pipeline to collect data from different sources. I train machine learning models using sklearn, \n",
    "#         and tensorflow with keras.  BeautifulSoup and Selenium. I can give results to developers using Flask apps\n",
    "#         and Flask APIs API. I can access APIs API and RSS feeds. I can also use SQL SQL SQL SQL SQL SQL SQL SQL,\n",
    "#         particularly ElephantSQL and Postgres.\"\"\"\n",
    "\n",
    "query = \"\"\"\n",
    "After finishing my physics degree, I decided to enroll at LambdaSchool \n",
    "where I learned how to aggregate, scrape, clean and process (ETL) data \n",
    "from a wide variety of sources. Python is still my main tool, but I have \n",
    "plenty of experience using Excel,  SQL and Postgres as well. \n",
    "I can use Flask to set up APIs to return results processed by \n",
    "machine learning models. I’ve dabbled in some machine learning myself, \n",
    "but creating illuminating visuals and writing up my results and conclusions \n",
    "has always been my forte, so I’d make an outstanding analyst.\n",
    "\"\"\"\n",
    "\n",
    "# query = \"\"\"I use knowledge of process and chemical engineering to help businesses optimize production,\n",
    "#         often making use of Statistical Process Control.  Background in math, science, organic chemistry.\n",
    "#         Interested in the environmental waste section, as chemistry forms the backbone of much of that work.\"\"\"\n",
    "\n",
    "# query = \"\"\"behavioral sciences intern working with children or adults with disablities behavioral therapy\n",
    "#         graphic design personalized personal disabled\"\"\"\n",
    "\n",
    "query_dtm = transform_query_for_nn(query)"
   ]
  },
  {
   "cell_type": "code",
   "execution_count": 20,
   "metadata": {},
   "outputs": [],
   "source": [
    "# Query for closest neighbors\n",
    "results = nn.kneighbors(query_dtm)[1][0].tolist()"
   ]
  },
  {
   "cell_type": "code",
   "execution_count": 21,
   "metadata": {
    "scrolled": true
   },
   "outputs": [],
   "source": [
    "# Send to list\n",
    "job_urls = df['jobs'][results].tolist()"
   ]
  },
  {
   "cell_type": "code",
   "execution_count": 22,
   "metadata": {},
   "outputs": [
    {
     "data": {
      "text/html": [
       "<style  type=\"text/css\" >\n",
       "</style><table id=\"T_46e85a66_3d2d_11ea_a840_a45e60be03c1\" ><thead>    <tr>        <th class=\"blank level0\" ></th>        <th class=\"col_heading level0 col0\" >0</th>    </tr></thead><tbody>\n",
       "                <tr>\n",
       "                        <th id=\"T_46e85a66_3d2d_11ea_a840_a45e60be03c1level0_row0\" class=\"row_heading level0 row0\" >0</th>\n",
       "                        <td id=\"T_46e85a66_3d2d_11ea_a840_a45e60be03c1row0_col0\" class=\"data row0 col0\" ><a href=\"https://www.indeed.com/rc/clk?jk=fdbc2972c6261496&fccid=b716e44d2c6283e7&vjs=3\">https://www.indeed.com/rc/clk?jk=fdbc2972c6261496&fccid=b716e44d2c6283e7&vjs=3</a></td>\n",
       "            </tr>\n",
       "            <tr>\n",
       "                        <th id=\"T_46e85a66_3d2d_11ea_a840_a45e60be03c1level0_row1\" class=\"row_heading level0 row1\" >1</th>\n",
       "                        <td id=\"T_46e85a66_3d2d_11ea_a840_a45e60be03c1row1_col0\" class=\"data row1 col0\" ><a href=\"https://www.indeed.com/rc/clk?jk=dde73137fc8000e4&fccid=24f8cd57633df8fb&vjs=3\">https://www.indeed.com/rc/clk?jk=dde73137fc8000e4&fccid=24f8cd57633df8fb&vjs=3</a></td>\n",
       "            </tr>\n",
       "            <tr>\n",
       "                        <th id=\"T_46e85a66_3d2d_11ea_a840_a45e60be03c1level0_row2\" class=\"row_heading level0 row2\" >2</th>\n",
       "                        <td id=\"T_46e85a66_3d2d_11ea_a840_a45e60be03c1row2_col0\" class=\"data row2 col0\" ><a href=\"https://www.indeed.com/rc/clk?jk=8e589b591bd1eb03&fccid=deb234f9dd3edcea&vjs=3\">https://www.indeed.com/rc/clk?jk=8e589b591bd1eb03&fccid=deb234f9dd3edcea&vjs=3</a></td>\n",
       "            </tr>\n",
       "            <tr>\n",
       "                        <th id=\"T_46e85a66_3d2d_11ea_a840_a45e60be03c1level0_row3\" class=\"row_heading level0 row3\" >3</th>\n",
       "                        <td id=\"T_46e85a66_3d2d_11ea_a840_a45e60be03c1row3_col0\" class=\"data row3 col0\" ><a href=\"https://www.indeed.com/rc/clk?jk=3472ab3ebe13d440&fccid=9c05e44275709723&vjs=3\">https://www.indeed.com/rc/clk?jk=3472ab3ebe13d440&fccid=9c05e44275709723&vjs=3</a></td>\n",
       "            </tr>\n",
       "            <tr>\n",
       "                        <th id=\"T_46e85a66_3d2d_11ea_a840_a45e60be03c1level0_row4\" class=\"row_heading level0 row4\" >4</th>\n",
       "                        <td id=\"T_46e85a66_3d2d_11ea_a840_a45e60be03c1row4_col0\" class=\"data row4 col0\" ><a href=\"https://www.indeed.com/rc/clk?jk=066223d2f549f2d7&fccid=89db72b7484b93bb&vjs=3\">https://www.indeed.com/rc/clk?jk=066223d2f549f2d7&fccid=89db72b7484b93bb&vjs=3</a></td>\n",
       "            </tr>\n",
       "            <tr>\n",
       "                        <th id=\"T_46e85a66_3d2d_11ea_a840_a45e60be03c1level0_row5\" class=\"row_heading level0 row5\" >5</th>\n",
       "                        <td id=\"T_46e85a66_3d2d_11ea_a840_a45e60be03c1row5_col0\" class=\"data row5 col0\" ><a href=\"https://www.indeed.com/rc/clk?jk=4fadb1849627c4e2&fccid=485155ca34f4e0c7&vjs=3\">https://www.indeed.com/rc/clk?jk=4fadb1849627c4e2&fccid=485155ca34f4e0c7&vjs=3</a></td>\n",
       "            </tr>\n",
       "            <tr>\n",
       "                        <th id=\"T_46e85a66_3d2d_11ea_a840_a45e60be03c1level0_row6\" class=\"row_heading level0 row6\" >6</th>\n",
       "                        <td id=\"T_46e85a66_3d2d_11ea_a840_a45e60be03c1row6_col0\" class=\"data row6 col0\" ><a href=\"https://www.indeed.com/rc/clk?jk=2ad42fc464022d75&fccid=66c010dc97a69d7c&vjs=3\">https://www.indeed.com/rc/clk?jk=2ad42fc464022d75&fccid=66c010dc97a69d7c&vjs=3</a></td>\n",
       "            </tr>\n",
       "            <tr>\n",
       "                        <th id=\"T_46e85a66_3d2d_11ea_a840_a45e60be03c1level0_row7\" class=\"row_heading level0 row7\" >7</th>\n",
       "                        <td id=\"T_46e85a66_3d2d_11ea_a840_a45e60be03c1row7_col0\" class=\"data row7 col0\" ><a href=\"https://www.indeed.com/rc/clk?jk=8fd01da175904382&fccid=dfaee2d8a6e3af4d&vjs=3\">https://www.indeed.com/rc/clk?jk=8fd01da175904382&fccid=dfaee2d8a6e3af4d&vjs=3</a></td>\n",
       "            </tr>\n",
       "            <tr>\n",
       "                        <th id=\"T_46e85a66_3d2d_11ea_a840_a45e60be03c1level0_row8\" class=\"row_heading level0 row8\" >8</th>\n",
       "                        <td id=\"T_46e85a66_3d2d_11ea_a840_a45e60be03c1row8_col0\" class=\"data row8 col0\" ><a href=\"https://www.indeed.com/rc/clk?jk=a07a1ad818d61c5f&fccid=f32a31323adb5fda&vjs=3\">https://www.indeed.com/rc/clk?jk=a07a1ad818d61c5f&fccid=f32a31323adb5fda&vjs=3</a></td>\n",
       "            </tr>\n",
       "            <tr>\n",
       "                        <th id=\"T_46e85a66_3d2d_11ea_a840_a45e60be03c1level0_row9\" class=\"row_heading level0 row9\" >9</th>\n",
       "                        <td id=\"T_46e85a66_3d2d_11ea_a840_a45e60be03c1row9_col0\" class=\"data row9 col0\" ><a href=\"https://www.indeed.com/rc/clk?jk=12259cd5ee3f8fac&fccid=485155ca34f4e0c7&vjs=3\">https://www.indeed.com/rc/clk?jk=12259cd5ee3f8fac&fccid=485155ca34f4e0c7&vjs=3</a></td>\n",
       "            </tr>\n",
       "            <tr>\n",
       "                        <th id=\"T_46e85a66_3d2d_11ea_a840_a45e60be03c1level0_row10\" class=\"row_heading level0 row10\" >10</th>\n",
       "                        <td id=\"T_46e85a66_3d2d_11ea_a840_a45e60be03c1row10_col0\" class=\"data row10 col0\" ><a href=\"https://www.indeed.com/rc/clk?jk=b35751837466c70d&fccid=7ca34b4de572548d&vjs=3\">https://www.indeed.com/rc/clk?jk=b35751837466c70d&fccid=7ca34b4de572548d&vjs=3</a></td>\n",
       "            </tr>\n",
       "            <tr>\n",
       "                        <th id=\"T_46e85a66_3d2d_11ea_a840_a45e60be03c1level0_row11\" class=\"row_heading level0 row11\" >11</th>\n",
       "                        <td id=\"T_46e85a66_3d2d_11ea_a840_a45e60be03c1row11_col0\" class=\"data row11 col0\" ><a href=\"https://www.indeed.com/rc/clk?jk=377dcc59472a25f8&fccid=21dd42bd588d9118&vjs=3\">https://www.indeed.com/rc/clk?jk=377dcc59472a25f8&fccid=21dd42bd588d9118&vjs=3</a></td>\n",
       "            </tr>\n",
       "            <tr>\n",
       "                        <th id=\"T_46e85a66_3d2d_11ea_a840_a45e60be03c1level0_row12\" class=\"row_heading level0 row12\" >12</th>\n",
       "                        <td id=\"T_46e85a66_3d2d_11ea_a840_a45e60be03c1row12_col0\" class=\"data row12 col0\" ><a href=\"https://www.indeed.com/rc/clk?jk=df32b29417c6dc50&fccid=290a4498a64fc044&vjs=3\">https://www.indeed.com/rc/clk?jk=df32b29417c6dc50&fccid=290a4498a64fc044&vjs=3</a></td>\n",
       "            </tr>\n",
       "            <tr>\n",
       "                        <th id=\"T_46e85a66_3d2d_11ea_a840_a45e60be03c1level0_row13\" class=\"row_heading level0 row13\" >13</th>\n",
       "                        <td id=\"T_46e85a66_3d2d_11ea_a840_a45e60be03c1row13_col0\" class=\"data row13 col0\" ><a href=\"https://www.indeed.com/rc/clk?jk=e17d53a95a2f6132&fccid=07e3bb1889ef68fc&vjs=3\">https://www.indeed.com/rc/clk?jk=e17d53a95a2f6132&fccid=07e3bb1889ef68fc&vjs=3</a></td>\n",
       "            </tr>\n",
       "            <tr>\n",
       "                        <th id=\"T_46e85a66_3d2d_11ea_a840_a45e60be03c1level0_row14\" class=\"row_heading level0 row14\" >14</th>\n",
       "                        <td id=\"T_46e85a66_3d2d_11ea_a840_a45e60be03c1row14_col0\" class=\"data row14 col0\" ><a href=\"https://www.indeed.com/company/Acceleration-Point/jobs/Business-Intelligence-Consultant-3733b7e6be2477d7?fccid=6ece7931f656cb30&vjs=3\">https://www.indeed.com/company/Acceleration-Point/jobs/Business-Intelligence-Consultant-3733b7e6be2477d7?fccid=6ece7931f656cb30&vjs=3</a></td>\n",
       "            </tr>\n",
       "            <tr>\n",
       "                        <th id=\"T_46e85a66_3d2d_11ea_a840_a45e60be03c1level0_row15\" class=\"row_heading level0 row15\" >15</th>\n",
       "                        <td id=\"T_46e85a66_3d2d_11ea_a840_a45e60be03c1row15_col0\" class=\"data row15 col0\" ><a href=\"https://www.indeed.com/rc/clk?jk=910d487772c4b413&fccid=de71a49b535e21cb&vjs=3\">https://www.indeed.com/rc/clk?jk=910d487772c4b413&fccid=de71a49b535e21cb&vjs=3</a></td>\n",
       "            </tr>\n",
       "            <tr>\n",
       "                        <th id=\"T_46e85a66_3d2d_11ea_a840_a45e60be03c1level0_row16\" class=\"row_heading level0 row16\" >16</th>\n",
       "                        <td id=\"T_46e85a66_3d2d_11ea_a840_a45e60be03c1row16_col0\" class=\"data row16 col0\" ><a href=\"https://www.indeed.com/rc/clk?jk=a82f0785ca65f57f&fccid=c734dc8b03fc4451&vjs=3\">https://www.indeed.com/rc/clk?jk=a82f0785ca65f57f&fccid=c734dc8b03fc4451&vjs=3</a></td>\n",
       "            </tr>\n",
       "            <tr>\n",
       "                        <th id=\"T_46e85a66_3d2d_11ea_a840_a45e60be03c1level0_row17\" class=\"row_heading level0 row17\" >17</th>\n",
       "                        <td id=\"T_46e85a66_3d2d_11ea_a840_a45e60be03c1row17_col0\" class=\"data row17 col0\" ><a href=\"https://www.indeed.com/rc/clk?jk=e47d5b8dbda4acce&fccid=3d9de18f10ade113&vjs=3\">https://www.indeed.com/rc/clk?jk=e47d5b8dbda4acce&fccid=3d9de18f10ade113&vjs=3</a></td>\n",
       "            </tr>\n",
       "            <tr>\n",
       "                        <th id=\"T_46e85a66_3d2d_11ea_a840_a45e60be03c1level0_row18\" class=\"row_heading level0 row18\" >18</th>\n",
       "                        <td id=\"T_46e85a66_3d2d_11ea_a840_a45e60be03c1row18_col0\" class=\"data row18 col0\" ><a href=\"https://www.indeed.com/rc/clk?jk=befc6b5b8f033d20&fccid=0f63e537c80f169b&vjs=3\">https://www.indeed.com/rc/clk?jk=befc6b5b8f033d20&fccid=0f63e537c80f169b&vjs=3</a></td>\n",
       "            </tr>\n",
       "            <tr>\n",
       "                        <th id=\"T_46e85a66_3d2d_11ea_a840_a45e60be03c1level0_row19\" class=\"row_heading level0 row19\" >19</th>\n",
       "                        <td id=\"T_46e85a66_3d2d_11ea_a840_a45e60be03c1row19_col0\" class=\"data row19 col0\" ><a href=\"https://www.indeed.com/company/Meridian-Technologies,-Inc./jobs/Data-Analyst-6f21ad25bd1ff1aa?fccid=ffce7ca53bcf780c&vjs=3\">https://www.indeed.com/company/Meridian-Technologies,-Inc./jobs/Data-Analyst-6f21ad25bd1ff1aa?fccid=ffce7ca53bcf780c&vjs=3</a></td>\n",
       "            </tr>\n",
       "    </tbody></table>"
      ],
      "text/plain": [
       "<pandas.io.formats.style.Styler at 0x1a48960b00>"
      ]
     },
     "execution_count": 22,
     "metadata": {},
     "output_type": "execute_result"
    }
   ],
   "source": [
    "# Create links\n",
    "def make_clickable(val):\n",
    "    return '<a href=\"{}\">{}</a>'.format(val, val)\n",
    "\n",
    "jobs_df = pd.DataFrame(job_urls)\n",
    "\n",
    "jobs_df.style.format(make_clickable)"
   ]
  },
  {
   "cell_type": "code",
   "execution_count": null,
   "metadata": {},
   "outputs": [],
   "source": []
  }
 ],
 "metadata": {
  "kernelspec": {
   "display_name": "Python 3",
   "language": "python",
   "name": "python3"
  },
  "language_info": {
   "codemirror_mode": {
    "name": "ipython",
    "version": 3
   },
   "file_extension": ".py",
   "mimetype": "text/x-python",
   "name": "python",
   "nbconvert_exporter": "python",
   "pygments_lexer": "ipython3",
   "version": "3.7.3"
  }
 },
 "nbformat": 4,
 "nbformat_minor": 2
}
